{
 "cells": [
  {
   "cell_type": "raw",
   "id": "734740e0-29e2-4cc4-a0ef-adf19a5cd767",
   "metadata": {},
   "source": [
    "{{ badge }}"
   ]
  },
  {
   "cell_type": "markdown",
   "id": "ba799f23-6bcd-46c8-b910-a0e1555ad9d9",
   "metadata": {},
   "source": [
    "# IF2 Lost Edge Classification\n",
    "Using the data from the SSI IF2 project, classify the edges that need to be connect and those that need to be disconnected. This is then a binary procedure where a 1 indicates that the edges should be connected and a 0 indicates that the edges should not be connected. In this case, it is best to start with a fully connected graph so that it may score each edge appropriately and does not assume that any particular edge is inherently disconnected."
   ]
  },
  {
   "cell_type": "code",
   "execution_count": null,
   "id": "0ad9e41b-394f-4da3-b83a-ade731e0b4c5",
   "metadata": {},
   "outputs": [],
   "source": [
    "!pip install git+https://github.com/drinkingkazu/ssi_if\n",
    "! download_if_dataset.py --challenge=graph --flavor=train\n",
    "! download_if_dataset.py --challenge=graph --flavor=test"
   ]
  },
  {
   "cell_type": "code",
   "execution_count": null,
   "id": "74b76391-1de4-4b96-af66-c5da15f4c72d",
   "metadata": {},
   "outputs": [],
   "source": [
    "import torch\n",
    "torch.multiprocessing.set_start_method('spawn')\n",
    "device = torch.device('cuda:0' if torch.cuda.is_available() else 'cpu')\n",
    "\n",
    "import numpy as np\n",
    "SEED=42\n",
    "_ = np.random.seed(SEED)\n",
    "_ = torch.manual_seed(SEED)"
   ]
  },
  {
   "cell_type": "markdown",
   "id": "5372a7c6-6a22-4532-80d7-28913a44fb58",
   "metadata": {},
   "source": [
    "## Shower Geometric Features `Dataset` and `DataLoader`\n",
    "The dataset returns a PyTorch Geometric object with the following attributes:\n",
    "* `x`: A `(C, 16)` tensor of node features;\n",
    "* `edge_index`: a `(2, E)` edge incidence matrix;\n",
    "* `edge_attr`: a `(E, 19)` tensor of edge features;\n",
    "* `y`: a `(C)` vector of node labels (primary IDs: 1 if primary, 0 if not);\n",
    "* `edge_label`: a `(E)` vector of edge labels (1 if connects two nodes in the same group, 0 otherwise);\n",
    "* `index`: a scalar representing the entry indices;\n",
    "* `C`: The number of \"clusters\" (nodes);\n",
    "* `E`: The number of edges."
   ]
  },
  {
   "cell_type": "code",
   "execution_count": null,
   "id": "2a8a8964-3303-42b9-b58e-c93b438bdce3",
   "metadata": {},
   "outputs": [],
   "source": [
    "datapath = 'if-graph-train.h5'\n",
    "train_data = ShowerFeatures(file_path = datapath)\n",
    "\n",
    "from torch_geometric.loader import DataLoader as GraphDataLoader\n",
    "train_loader = GraphDataLoader(train_data,\n",
    "                               shuffle = True,\n",
    "                               num_workers = 4,\n",
    "                               batch_size = 64\n",
    "                              )"
   ]
  },
  {
   "cell_type": "markdown",
   "id": "1fb8dd15-d503-4a8f-a095-9227e88f87ca",
   "metadata": {},
   "source": [
    "# Model Choice\n",
    "The design of model will make use of both `MessagePassing` and iterative \"pruning\" to build a new graph that is more sparse and approaches the true connections. Each block of `MP` aims to update the edge features and score an edge if it should be connected or disconnected. The iterative pruning will then make use of this scoring to connect edges in order of highest to lowest score while maintaining a non-increasing cross entropy loss."
   ]
  },
  {
   "cell_type": "code",
   "execution_count": null,
   "id": "69963022-435c-4c44-8679-97d0615e011b",
   "metadata": {},
   "outputs": [],
   "source": [
    "import torch.nn.functional as F\n",
    "from torch.nn import Sequential, Linear, ReLU\n",
    "from torch_geometric.nn import MessagePassing\n",
    "\n",
    "class EdgeConv(MessagePassing):\n",
    "    def __init__(self, in_channels, out_channels):\n",
    "        super().__init__(aggr='max') # Max aggregation.\n",
    "        self.mlp = Sequential(Linear(2 * in_channels, out_channels),\n",
    "                                     ReLU(),\n",
    "                                     Linear(out_channels, out_channels))\n",
    "\n",
    "    def forward(self, x, edge_index):\n",
    "        \"\"\"\n",
    "        x has shape [N, in_channels]\n",
    "        edge_index has shape [2, E]\n",
    "        \"\"\"\n",
    "        return self.propagate(edge_index, x=x)\n",
    "\n",
    "    def message(self, x_i, x_j):\n",
    "        \"\"\"\n",
    "        x_i, x_j both have the shape [E, in_channels].\n",
    "        \"\"\"\n",
    "        tmp = torch.cat([x_i, x_j], dim=1) # tmp has shape [E, 2 * in_channels]\n",
    "        return self.mlp(tmp)"
   ]
  },
  {
   "cell_type": "code",
   "execution_count": null,
   "id": "19860b19-0314-48a6-a5cd-eba2252bb381",
   "metadata": {},
   "outputs": [],
   "source": [
    "class Node2Edge(nn.Module):\n",
    "    def __init__(self):\n",
    "        super(Node2Edge, self).__init__()\n",
    "\n",
    "    def forward(self, data):\n",
    "        x = data.x\n",
    "        edge_index = data.edge_index\n",
    "        return x[edge_index[0]] - x[edge_index[1]]"
   ]
  },
  {
   "cell_type": "code",
   "execution_count": null,
   "id": "54953555-4d42-4eaf-853b-3e32576152e1",
   "metadata": {},
   "outputs": [],
   "source": [
    "class LostEdgePruning(nn.Module):\n",
    "    def __init__(self, num_node_features):\n",
    "        super(LostEdgePruning, self).__init__()\n",
    "        self.batch_norm = BatchNorm(num_node_features)\n",
    "        self.node2edge = Node2Edge()\n",
    "        self.conv1 = EdgeConv(num_node_features, num_node_features/2)\n",
    "        self.lin1 = Sequential(Linear(num_node_features/2, 1))\n",
    "\n",
    "    def forward(self, data):\n",
    "        x, edge_index = data.x, data.edge_index\n",
    "        x = self.batch_norm(x)\n",
    "        x = self.conv1(x, edge_index)\n",
    "        x = self.lin1(x)\n",
    "        x = self.node2edge(x)\n",
    "        return x = F.sigmoid(x)"
   ]
  },
  {
   "cell_type": "markdown",
   "id": "e3baca7f-c4e1-43dc-b86c-4305b4ee1f8a",
   "metadata": {},
   "source": [
    "# Training\n",
    "Start the training."
   ]
  },
  {
   "cell_type": "code",
   "execution_count": null,
   "id": "71b8461c-7a92-49e3-9f63-1b0dc5748f81",
   "metadata": {},
   "outputs": [],
   "source": [
    "import torch.optim as optim\n",
    "from torch.nn import CrossEntropyLoss\n",
    "\n",
    "loss_fn = CrossEntropyLoss()\n",
    "num_node_feats = 16\n",
    "gnn = LostEdgePruning(node_feat_size)\n",
    "opt = optim.Adam(model.parameters(), lr = 0.001)\n",
    "def train(model, num_epochs = 5):\n",
    "    model.train(True)\n",
    "    tot_iter = len(train_loader)\n",
    "    \n",
    "    for ep in range(num_epochs):\n",
    "        running_loss, running_correct = 0, 0\n",
    "        for data in train_loader:\n",
    "            inputs = data\n",
    "            labels = data.edge_label\n",
    "            inputs = inputs.to(device)\n",
    "            labels = labels.to(device)\n",
    "\n",
    "            opt.zero_grad()\n",
    "            outputs = model(inputs)\n",
    "            loss = loss_fn(outputs, labels)\n",
    "            loss.backward()\n",
    "            opt.step()\n",
    "\n",
    "            running_loss += loss.item()\n",
    "            \n",
    "        epoch_loss = running_loss / tot_iter\n",
    "        print(epoch_loss)"
   ]
  }
 ],
 "metadata": {
  "kernelspec": {
   "display_name": "Python 3 (ipykernel)",
   "language": "python",
   "name": "python3"
  },
  "language_info": {
   "codemirror_mode": {
    "name": "ipython",
    "version": 3
   },
   "file_extension": ".py",
   "mimetype": "text/x-python",
   "name": "python",
   "nbconvert_exporter": "python",
   "pygments_lexer": "ipython3",
   "version": "3.11.3"
  }
 },
 "nbformat": 4,
 "nbformat_minor": 5
}
