{
 "cells": [
  {
   "cell_type": "markdown",
   "id": "a8fc41dc-9e9b-4194-842a-15e6b661fca2",
   "metadata": {},
   "source": [
    "# Visualize Dataset Graph\n",
    "Visualize one graph entry in the dataset as complete, Delaunay, and kNN."
   ]
  },
  {
   "cell_type": "code",
   "execution_count": null,
   "id": "c955e9f6-82b6-4cc7-b7ea-b79825b8f913",
   "metadata": {},
   "outputs": [],
   "source": [
    "!pip install git+https://github.com/drinkingkazu/ssi_if\n",
    "! download_if_dataset.py --challenge=graph --flavor=train\n",
    "! download_if_dataset.py --challenge=graph --flavor=test"
   ]
  },
  {
   "cell_type": "code",
   "execution_count": null,
   "id": "5609b35e-cc92-4608-b036-e4c640631ddb",
   "metadata": {},
   "outputs": [],
   "source": [
    "from iftool.gnn_challenge import ShowerFeatures\n",
    "datapath = 'if-graph-train.h5'\n",
    "train_data = ShowerFeatures(file_path = datapath)"
   ]
  },
  {
   "cell_type": "code",
   "execution_count": null,
   "id": "082ee6cd-3f59-4739-9c18-8a38da9c2768",
   "metadata": {},
   "outputs": [],
   "source": [
    "import numpy as np\n",
    "import networkx as nx\n",
    "\n",
    "event_id = 19\n",
    "# Get the edge data, slice the columns corresponding to the edge IDs\n",
    "with h5py.File('/sdf/group/slacml-school/kmi2020/shower_clustering/train.h5', \"r\", swmr=True) as f:\n",
    "    node_info = f['node_features'][event_id].reshape(-1,19)\n",
    "    edge_info = f['edge_features'][event_id].reshape(-1,22)\n",
    "    \n",
    "edge_index = edge_info[:,-3:-1].astype(int)\n",
    "node_attrs = node_info[:,:16]\n",
    "\n",
    "# Initialize a graph, add the edges\n",
    "G = nx.Graph()\n",
    "G.add_edges_from(edge_index)\n",
    "nx.draw_kamada_kawai(G) # Kamada-Kawai structures the graph in a symmetric way here"
   ]
  },
  {
   "cell_type": "markdown",
   "id": "c22ee51e-f6db-4846-be17-420011af5345",
   "metadata": {},
   "source": [
    "### kNN Graph"
   ]
  },
  {
   "cell_type": "code",
   "execution_count": null,
   "id": "4bc092a2-ed7a-4516-a35e-58fbef879401",
   "metadata": {},
   "outputs": [],
   "source": [
    "from sklearn.neighbors import kneighbors_graph\n",
    "k_adj = kneighbors_graph(node_attr, 2, mode='connectivity')\n",
    "K = nx.Graph()\n",
    "K.from_numpy_array(k_adj)"
   ]
  }
 ],
 "metadata": {
  "kernelspec": {
   "display_name": "Python 3 (ipykernel)",
   "language": "python",
   "name": "python3"
  },
  "language_info": {
   "codemirror_mode": {
    "name": "ipython",
    "version": 3
   },
   "file_extension": ".py",
   "mimetype": "text/x-python",
   "name": "python",
   "nbconvert_exporter": "python",
   "pygments_lexer": "ipython3",
   "version": "3.11.3"
  }
 },
 "nbformat": 4,
 "nbformat_minor": 5
}
